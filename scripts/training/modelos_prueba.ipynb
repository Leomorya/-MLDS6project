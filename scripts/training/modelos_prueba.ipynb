{
 "cells": [
  {
   "cell_type": "markdown",
   "id": "fd899ce9",
   "metadata": {},
   "source": [
    "# Modelos para prueba\n",
    "En este notebook se probaran tres modelos mas, a ver si se pueden llegar a mejorar las metricas de evaluación del modelo "
   ]
  },
  {
   "cell_type": "code",
   "execution_count": 11,
   "id": "df0a04b1",
   "metadata": {},
   "outputs": [],
   "source": [
    "import numpy as np \n",
    "import pandas as pd \n",
    "import sklearn\n",
    "import matplotlib\n",
    "import matplotlib.pyplot as plt\n",
    "import joblib\n",
    "from sklearn.model_selection import train_test_split\n",
    "from sklearn.metrics import f1_score,make_scorer,classification_report,ConfusionMatrixDisplay\n",
    "from sklearn.metrics import confusion_matrix,accuracy_score,precision_score,recall_score\n",
    "from sklearn.model_selection import GridSearchCV\n",
    "from sklearn.svm import SVC\n",
    "from sklearn.ensemble import RandomForestClassifier\n",
    "from sklearn.neural_network import MLPClassifier\n",
    "import warnings"
   ]
  },
  {
   "cell_type": "code",
   "execution_count": 12,
   "id": "29b629f8",
   "metadata": {},
   "outputs": [
    {
     "name": "stdout",
     "output_type": "stream",
     "text": [
      "version de numpy 1.23.5\n",
      "version de pandas 1.5.2\n",
      "version de skelarn 1.2.2\n",
      "version de matplotlib 3.6.2\n",
      "version de\n",
      "Python 3.10.7\r\n"
     ]
    }
   ],
   "source": [
    "print(\"version de numpy\",np.__version__)\n",
    "print(\"version de pandas\",pd.__version__)\n",
    "print(\"version de skelarn\",sklearn.__version__)\n",
    "print(\"version de matplotlib\",matplotlib.__version__)\n",
    "print(\"version de\")\n",
    "!python3 --version"
   ]
  },
  {
   "cell_type": "markdown",
   "id": "c13799a1",
   "metadata": {},
   "source": [
    "## Carga y preprocesdamiento de datos\n",
    "---\n",
    "Para el preprocesamiento de datos, la selección de caracteristicas y la transformación se utilizaran las funciones creadas para este fin.\n",
    "Carguemos los datos"
   ]
  },
  {
   "cell_type": "code",
   "execution_count": 13,
   "id": "e52bbe08",
   "metadata": {},
   "outputs": [
    {
     "data": {
      "text/html": [
       "<div>\n",
       "<style scoped>\n",
       "    .dataframe tbody tr th:only-of-type {\n",
       "        vertical-align: middle;\n",
       "    }\n",
       "\n",
       "    .dataframe tbody tr th {\n",
       "        vertical-align: top;\n",
       "    }\n",
       "\n",
       "    .dataframe thead th {\n",
       "        text-align: right;\n",
       "    }\n",
       "</style>\n",
       "<table border=\"1\" class=\"dataframe\">\n",
       "  <thead>\n",
       "    <tr style=\"text-align: right;\">\n",
       "      <th></th>\n",
       "      <th>ID</th>\n",
       "      <th>Edad</th>\n",
       "      <th>Tipo_Trabajo</th>\n",
       "      <th>Estado_Civil</th>\n",
       "      <th>Educacion</th>\n",
       "      <th>mora</th>\n",
       "      <th>Vivienda</th>\n",
       "      <th>Consumo</th>\n",
       "      <th>Contacto</th>\n",
       "      <th>Mes</th>\n",
       "      <th>...</th>\n",
       "      <th>Campana</th>\n",
       "      <th>Dias_Ultima_Camp</th>\n",
       "      <th>No_Contactos</th>\n",
       "      <th>Resultado_Anterior</th>\n",
       "      <th>emp_var_rate</th>\n",
       "      <th>cons_price_idx</th>\n",
       "      <th>cons_conf_idx</th>\n",
       "      <th>euribor3m</th>\n",
       "      <th>nr_employed</th>\n",
       "      <th>y</th>\n",
       "    </tr>\n",
       "  </thead>\n",
       "  <tbody>\n",
       "    <tr>\n",
       "      <th>0</th>\n",
       "      <td>1</td>\n",
       "      <td>57</td>\n",
       "      <td>servicios</td>\n",
       "      <td>casado</td>\n",
       "      <td>bachillerato</td>\n",
       "      <td>unknown</td>\n",
       "      <td>no</td>\n",
       "      <td>no</td>\n",
       "      <td>telefono fijo</td>\n",
       "      <td>may</td>\n",
       "      <td>...</td>\n",
       "      <td>1</td>\n",
       "      <td>999</td>\n",
       "      <td>0</td>\n",
       "      <td>sin contacto</td>\n",
       "      <td>1.1</td>\n",
       "      <td>93994.0</td>\n",
       "      <td>-36.4</td>\n",
       "      <td>4857.0</td>\n",
       "      <td>5191.0</td>\n",
       "      <td>0</td>\n",
       "    </tr>\n",
       "    <tr>\n",
       "      <th>1</th>\n",
       "      <td>2</td>\n",
       "      <td>37</td>\n",
       "      <td>servicios</td>\n",
       "      <td>casado</td>\n",
       "      <td>bachillerato</td>\n",
       "      <td>no</td>\n",
       "      <td>si</td>\n",
       "      <td>no</td>\n",
       "      <td>telefono fijo</td>\n",
       "      <td>may</td>\n",
       "      <td>...</td>\n",
       "      <td>1</td>\n",
       "      <td>999</td>\n",
       "      <td>0</td>\n",
       "      <td>sin contacto</td>\n",
       "      <td>1.1</td>\n",
       "      <td>93994.0</td>\n",
       "      <td>-36.4</td>\n",
       "      <td>4857.0</td>\n",
       "      <td>5191.0</td>\n",
       "      <td>0</td>\n",
       "    </tr>\n",
       "    <tr>\n",
       "      <th>2</th>\n",
       "      <td>3</td>\n",
       "      <td>40</td>\n",
       "      <td>administrador negocio</td>\n",
       "      <td>casado</td>\n",
       "      <td>primaria</td>\n",
       "      <td>no</td>\n",
       "      <td>no</td>\n",
       "      <td>no</td>\n",
       "      <td>telefono fijo</td>\n",
       "      <td>may</td>\n",
       "      <td>...</td>\n",
       "      <td>1</td>\n",
       "      <td>999</td>\n",
       "      <td>0</td>\n",
       "      <td>sin contacto</td>\n",
       "      <td>1.1</td>\n",
       "      <td>93994.0</td>\n",
       "      <td>-36.4</td>\n",
       "      <td>4857.0</td>\n",
       "      <td>5191.0</td>\n",
       "      <td>0</td>\n",
       "    </tr>\n",
       "    <tr>\n",
       "      <th>3</th>\n",
       "      <td>4</td>\n",
       "      <td>56</td>\n",
       "      <td>servicios</td>\n",
       "      <td>casado</td>\n",
       "      <td>bachillerato</td>\n",
       "      <td>no</td>\n",
       "      <td>no</td>\n",
       "      <td>si</td>\n",
       "      <td>telefono fijo</td>\n",
       "      <td>may</td>\n",
       "      <td>...</td>\n",
       "      <td>1</td>\n",
       "      <td>999</td>\n",
       "      <td>0</td>\n",
       "      <td>sin contacto</td>\n",
       "      <td>1.1</td>\n",
       "      <td>93994.0</td>\n",
       "      <td>-36.4</td>\n",
       "      <td>4857.0</td>\n",
       "      <td>5191.0</td>\n",
       "      <td>0</td>\n",
       "    </tr>\n",
       "    <tr>\n",
       "      <th>4</th>\n",
       "      <td>7</td>\n",
       "      <td>25</td>\n",
       "      <td>servicios</td>\n",
       "      <td>single</td>\n",
       "      <td>bachillerato</td>\n",
       "      <td>no</td>\n",
       "      <td>si</td>\n",
       "      <td>no</td>\n",
       "      <td>telefono fijo</td>\n",
       "      <td>may</td>\n",
       "      <td>...</td>\n",
       "      <td>1</td>\n",
       "      <td>999</td>\n",
       "      <td>0</td>\n",
       "      <td>sin contacto</td>\n",
       "      <td>1.1</td>\n",
       "      <td>93994.0</td>\n",
       "      <td>-36.4</td>\n",
       "      <td>4857.0</td>\n",
       "      <td>5191.0</td>\n",
       "      <td>0</td>\n",
       "    </tr>\n",
       "  </tbody>\n",
       "</table>\n",
       "<p>5 rows × 21 columns</p>\n",
       "</div>"
      ],
      "text/plain": [
       "   ID  Edad           Tipo_Trabajo Estado_Civil     Educacion     mora  \\\n",
       "0   1    57              servicios       casado  bachillerato  unknown   \n",
       "1   2    37              servicios       casado  bachillerato       no   \n",
       "2   3    40  administrador negocio       casado      primaria       no   \n",
       "3   4    56              servicios       casado  bachillerato       no   \n",
       "4   7    25              servicios       single  bachillerato       no   \n",
       "\n",
       "  Vivienda Consumo       Contacto  Mes  ... Campana  Dias_Ultima_Camp  \\\n",
       "0       no      no  telefono fijo  may  ...       1               999   \n",
       "1       si      no  telefono fijo  may  ...       1               999   \n",
       "2       no      no  telefono fijo  may  ...       1               999   \n",
       "3       no      si  telefono fijo  may  ...       1               999   \n",
       "4       si      no  telefono fijo  may  ...       1               999   \n",
       "\n",
       "   No_Contactos  Resultado_Anterior emp_var_rate  cons_price_idx  \\\n",
       "0             0        sin contacto          1.1         93994.0   \n",
       "1             0        sin contacto          1.1         93994.0   \n",
       "2             0        sin contacto          1.1         93994.0   \n",
       "3             0        sin contacto          1.1         93994.0   \n",
       "4             0        sin contacto          1.1         93994.0   \n",
       "\n",
       "   cons_conf_idx  euribor3m  nr_employed  y  \n",
       "0          -36.4     4857.0       5191.0  0  \n",
       "1          -36.4     4857.0       5191.0  0  \n",
       "2          -36.4     4857.0       5191.0  0  \n",
       "3          -36.4     4857.0       5191.0  0  \n",
       "4          -36.4     4857.0       5191.0  0  \n",
       "\n",
       "[5 rows x 21 columns]"
      ]
     },
     "execution_count": 13,
     "metadata": {},
     "output_type": "execute_result"
    }
   ],
   "source": [
    "ruta_train=r\"/home/leomorya/proyecto_final_metodologias/data/train.csv\"\n",
    "# cargando los datos \n",
    "df_train = pd.read_csv(ruta_train)\n",
    "df_train.head()"
   ]
  },
  {
   "cell_type": "markdown",
   "id": "03e3bb5e",
   "metadata": {},
   "source": [
    "Cargamos las funciones de preprocesamiento, selección de caracteristicas y transformación"
   ]
  },
  {
   "cell_type": "code",
   "execution_count": 14,
   "id": "3b5b9677",
   "metadata": {},
   "outputs": [],
   "source": [
    "#llamamos los paquetes\n",
    "import sys\n",
    "# colocamos la ruta del paquete a python \n",
    "sys.path.append('/home/leomorya/proyecto_final_metodologias/tdsp_template/src/nombre_paquete/')"
   ]
  },
  {
   "cell_type": "code",
   "execution_count": 15,
   "id": "10d13969",
   "metadata": {},
   "outputs": [],
   "source": [
    "from preprocessing.funcion_de_preprocesamiento import preprocesamiento\n",
    "from preprocessing.seleccion_caracteristicas import seleccion_caracteristicas\n",
    "from preprocessing.transformaciones_datos import transformaciones"
   ]
  },
  {
   "cell_type": "code",
   "execution_count": 16,
   "id": "2318d770",
   "metadata": {},
   "outputs": [
    {
     "data": {
      "text/plain": [
       "array([[0.        , 0.        , 0.        , ..., 0.60251046, 0.14022145,\n",
       "        0.        ],\n",
       "       [0.        , 0.        , 0.        , ..., 0.60251046, 0.14022145,\n",
       "        0.        ],\n",
       "       [0.        , 1.        , 0.        , ..., 0.60251046, 0.14022145,\n",
       "        0.        ],\n",
       "       ...,\n",
       "       [0.        , 0.        , 0.        , ..., 0.        , 0.999987  ,\n",
       "        0.        ],\n",
       "       [0.        , 0.        , 0.        , ..., 0.        , 0.999987  ,\n",
       "        1.        ],\n",
       "       [0.        , 0.        , 0.        , ..., 0.        , 0.999987  ,\n",
       "        0.        ]])"
      ]
     },
     "execution_count": 16,
     "metadata": {},
     "output_type": "execute_result"
    }
   ],
   "source": [
    "# preprocesamos\n",
    "df_train_prep = preprocesamiento(df_train)\n",
    "# seleccionamos caracteristicas \n",
    "df_train_prep_selec = seleccion_caracteristicas(df_train_prep,\"train\")\n",
    "# transformamos los datos listos para modelar\n",
    "datos_finales = transformaciones(df_train_prep_selec)\n",
    "datos_finales"
   ]
  },
  {
   "cell_type": "markdown",
   "id": "dd7a8db0",
   "metadata": {},
   "source": [
    "## Organización de variables endogenas (dependientes) y exogenas (independientes)"
   ]
  },
  {
   "cell_type": "code",
   "execution_count": 17,
   "id": "5a27708c",
   "metadata": {},
   "outputs": [],
   "source": [
    "# exogenas \n",
    "X = datos_finales[:, :-1]\n",
    "# endogenas\n",
    "y = datos_finales[:, -1:].flatten()"
   ]
  },
  {
   "cell_type": "markdown",
   "id": "a9bffc3e",
   "metadata": {},
   "source": [
    "## Pariticionamiento en datos de entrenamiento y prueba\n",
    "---\n",
    "Para esto utilizaraemos sklearn "
   ]
  },
  {
   "cell_type": "code",
   "execution_count": 18,
   "id": "3d2ce26d",
   "metadata": {},
   "outputs": [],
   "source": [
    " X_train, X_test, y_train, y_test = train_test_split(X, y, \n",
    "                        test_size=0.33, random_state=42,stratify=y)"
   ]
  },
  {
   "cell_type": "markdown",
   "id": "090a4af5",
   "metadata": {},
   "source": [
    "# Modelos a probar\n",
    "Los modelos que se utilizaran son Random forest, maquina de soporte vectorial y perceptron multicapa. \n",
    "\n",
    "recordemos que los datos tienes desbalance"
   ]
  },
  {
   "cell_type": "code",
   "execution_count": 21,
   "id": "673689d0",
   "metadata": {},
   "outputs": [
    {
     "data": {
      "image/png": "[encoded data removed]",
      "text/plain": [
       "<Figure size 640x480 with 1 Axes>"
      ]
     },
     "metadata": {},
     "output_type": "display_data"
    }
   ],
   "source": [
    "plt.hist(y)\n",
    "plt.title(\"Balanceo de clases\")\n",
    "plt.show()"
   ]
  },
  {
   "cell_type": "markdown",
   "id": "0b58b985",
   "metadata": {},
   "source": [
    "# Busqueda de hiperparametros\n",
    "---\n",
    "Para la busqueda de los mejores hiperparametros del modelo se utilizara GridSearchCV."
   ]
  },
  {
   "cell_type": "markdown",
   "id": "b0842c2c",
   "metadata": {},
   "source": [
    " ### 1.Modelo Random forest\n",
    "---\n",
    "Los hiperparametros son "
   ]
  },
  {
   "cell_type": "code",
   "execution_count": 34,
   "id": "cfb1ee2d",
   "metadata": {},
   "outputs": [
    {
     "data": {
      "text/plain": [
       "{'bootstrap': True,\n",
       " 'ccp_alpha': 0.0,\n",
       " 'class_weight': None,\n",
       " 'criterion': 'gini',\n",
       " 'max_depth': None,\n",
       " 'max_features': 'sqrt',\n",
       " 'max_leaf_nodes': None,\n",
       " 'max_samples': None,\n",
       " 'min_impurity_decrease': 0.0,\n",
       " 'min_samples_leaf': 1,\n",
       " 'min_samples_split': 2,\n",
       " 'min_weight_fraction_leaf': 0.0,\n",
       " 'n_estimators': 100,\n",
       " 'n_jobs': None,\n",
       " 'oob_score': False,\n",
       " 'random_state': None,\n",
       " 'verbose': 0,\n",
       " 'warm_start': False}"
      ]
     },
     "execution_count": 34,
     "metadata": {},
     "output_type": "execute_result"
    }
   ],
   "source": [
    "RandomForestClassifier().get_params()"
   ]
  },
  {
   "cell_type": "code",
   "execution_count": 35,
   "id": "c5c9b49e",
   "metadata": {},
   "outputs": [],
   "source": [
    "param_grid_RF={'class_weight': [\"balanced\",None,\n",
    "                                \"balanced_subsample\"],\n",
    "               'criterion': ['gini',\"entropy\"],\n",
    "                'max_depth': [10,20,50],\n",
    "                'max_leaf_nodes': [5,10,20,50],\n",
    "                'n_estimators': [50,100,200],\n",
    "                \"random_state\":[0,42],\n",
    "                \"max_features\":[\"sqrt\", \"log2\"],            \n",
    "              }"
   ]
  },
  {
   "cell_type": "code",
   "execution_count": 36,
   "id": "8bfcab8c",
   "metadata": {},
   "outputs": [
    {
     "name": "stdout",
     "output_type": "stream",
     "text": [
      "CPU times: user 9.73 s, sys: 1.53 s, total: 11.3 s\n",
      "Wall time: 14min 50s\n"
     ]
    }
   ],
   "source": [
    "%%time\n",
    "gsearch = GridSearchCV(\n",
    "        estimator=RandomForestClassifier(),\n",
    "        param_grid=param_grid_RF,\n",
    "        scoring=make_scorer(f1_score, greater_is_better=True),\n",
    "        n_jobs=-1,\n",
    "        cv=10\n",
    "        ).fit(X_train, y_train)"
   ]
  },
  {
   "cell_type": "markdown",
   "id": "ac747495",
   "metadata": {},
   "source": [
    "Veamos los mejores parametros"
   ]
  },
  {
   "cell_type": "code",
   "execution_count": 37,
   "id": "77f4ee93",
   "metadata": {},
   "outputs": [
    {
     "data": {
      "text/plain": [
       "{'class_weight': 'balanced_subsample',\n",
       " 'criterion': 'entropy',\n",
       " 'max_depth': 10,\n",
       " 'max_features': 'sqrt',\n",
       " 'max_leaf_nodes': 50,\n",
       " 'n_estimators': 50,\n",
       " 'random_state': 0}"
      ]
     },
     "execution_count": 37,
     "metadata": {},
     "output_type": "execute_result"
    }
   ],
   "source": [
    "gsearch.best_params_"
   ]
  },
  {
   "cell_type": "markdown",
   "id": "2c890893",
   "metadata": {},
   "source": [
    "imprimamos el reporte de las metricas "
   ]
  },
  {
   "cell_type": "code",
   "execution_count": 39,
   "id": "3b2bdacd",
   "metadata": {},
   "outputs": [
    {
     "name": "stdout",
     "output_type": "stream",
     "text": [
      "              precision    recall  f1-score   support\n",
      "\n",
      "         0.0       0.95      0.87      0.91      6768\n",
      "         1.0       0.38      0.63      0.47       855\n",
      "\n",
      "    accuracy                           0.84      7623\n",
      "   macro avg       0.66      0.75      0.69      7623\n",
      "weighted avg       0.89      0.84      0.86      7623\n",
      "\n"
     ]
    }
   ],
   "source": [
    "mejor_modelo=gsearch.best_estimator_\n",
    "y_pred=mejor_modelo.predict(X_test)\n",
    "print(classification_report(y_test, y_pred))"
   ]
  },
  {
   "cell_type": "markdown",
   "id": "9607ba33",
   "metadata": {},
   "source": [
    "Entrenamiento del modelo con todos los datos de train\n",
    "\n",
    "Aca ya no se realizara la cros validación sino se utilizaran todos los datos\n"
   ]
  },
  {
   "cell_type": "code",
   "execution_count": 41,
   "id": "a8e6c95f",
   "metadata": {},
   "outputs": [],
   "source": [
    "mejores_parametros_rf={'class_weight': 'balanced_subsample',\n",
    " 'criterion': 'entropy',\n",
    " 'max_depth': 10,\n",
    " 'max_features': 'sqrt',\n",
    " 'max_leaf_nodes': 50,\n",
    " 'n_estimators': 50,\n",
    " 'random_state': 0}"
   ]
  },
  {
   "cell_type": "code",
   "execution_count": 46,
   "id": "65c01cd4",
   "metadata": {},
   "outputs": [
    {
     "data": {
      "text/html": [
       "<style>#sk-container-id-2 {color: black;background-color: white;}#sk-container-id-2 pre{padding: 0;}#sk-container-id-2 div.sk-toggleable {background-color: white;}#sk-container-id-2 label.sk-toggleable__label {cursor: pointer;display: block;width: 100%;margin-bottom: 0;padding: 0.3em;box-sizing: border-box;text-align: center;}#sk-container-id-2 label.sk-toggleable__label-arrow:before {content: \"▸\";float: left;margin-right: 0.25em;color: #696969;}#sk-container-id-2 label.sk-toggleable__label-arrow:hover:before {color: black;}#sk-container-id-2 div.sk-estimator:hover label.sk-toggleable__label-arrow:before {color: black;}#sk-container-id-2 div.sk-toggleable__content {max-height: 0;max-width: 0;overflow: hidden;text-align: left;background-color: #f0f8ff;}#sk-container-id-2 div.sk-toggleable__content pre {margin: 0.2em;color: black;border-radius: 0.25em;background-color: #f0f8ff;}#sk-container-id-2 input.sk-toggleable__control:checked~div.sk-toggleable__content {max-height: 200px;max-width: 100%;overflow: auto;}#sk-container-id-2 input.sk-toggleable__control:checked~label.sk-toggleable__label-arrow:before {content: \"▾\";}#sk-container-id-2 div.sk-estimator input.sk-toggleable__control:checked~label.sk-toggleable__label {background-color: #d4ebff;}#sk-container-id-2 div.sk-label input.sk-toggleable__control:checked~label.sk-toggleable__label {background-color: #d4ebff;}#sk-container-id-2 input.sk-hidden--visually {border: 0;clip: rect(1px 1px 1px 1px);clip: rect(1px, 1px, 1px, 1px);height: 1px;margin: -1px;overflow: hidden;padding: 0;position: absolute;width: 1px;}#sk-container-id-2 div.sk-estimator {font-family: monospace;background-color: #f0f8ff;border: 1px dotted black;border-radius: 0.25em;box-sizing: border-box;margin-bottom: 0.5em;}#sk-container-id-2 div.sk-estimator:hover {background-color: #d4ebff;}#sk-container-id-2 div.sk-parallel-item::after {content: \"\";width: 100%;border-bottom: 1px solid gray;flex-grow: 1;}#sk-container-id-2 div.sk-label:hover label.sk-toggleable__label {background-color: #d4ebff;}#sk-container-id-2 div.sk-serial::before {content: \"\";position: absolute;border-left: 1px solid gray;box-sizing: border-box;top: 0;bottom: 0;left: 50%;z-index: 0;}#sk-container-id-2 div.sk-serial {display: flex;flex-direction: column;align-items: center;background-color: white;padding-right: 0.2em;padding-left: 0.2em;position: relative;}#sk-container-id-2 div.sk-item {position: relative;z-index: 1;}#sk-container-id-2 div.sk-parallel {display: flex;align-items: stretch;justify-content: center;background-color: white;position: relative;}#sk-container-id-2 div.sk-item::before, #sk-container-id-2 div.sk-parallel-item::before {content: \"\";position: absolute;border-left: 1px solid gray;box-sizing: border-box;top: 0;bottom: 0;left: 50%;z-index: -1;}#sk-container-id-2 div.sk-parallel-item {display: flex;flex-direction: column;z-index: 1;position: relative;background-color: white;}#sk-container-id-2 div.sk-parallel-item:first-child::after {align-self: flex-end;width: 50%;}#sk-container-id-2 div.sk-parallel-item:last-child::after {align-self: flex-start;width: 50%;}#sk-container-id-2 div.sk-parallel-item:only-child::after {width: 0;}#sk-container-id-2 div.sk-dashed-wrapped {border: 1px dashed gray;margin: 0 0.4em 0.5em 0.4em;box-sizing: border-box;padding-bottom: 0.4em;background-color: white;}#sk-container-id-2 div.sk-label label {font-family: monospace;font-weight: bold;display: inline-block;line-height: 1.2em;}#sk-container-id-2 div.sk-label-container {text-align: center;}#sk-container-id-2 div.sk-container {/* jupyter's `normalize.less` sets `[hidden] { display: none; }` but bootstrap.min.css set `[hidden] { display: none !important; }` so we also need the `!important` here to be able to override the default hidden behavior on the sphinx rendered scikit-learn.org. See: https://github.com/scikit-learn/scikit-learn/issues/21755 */display: inline-block !important;position: relative;}#sk-container-id-2 div.sk-text-repr-fallback {display: none;}</style><div id=\"sk-container-id-2\" class=\"sk-top-container\"><div class=\"sk-text-repr-fallback\"><pre>RandomForestClassifier(class_weight=&#x27;balanced_subsample&#x27;, criterion=&#x27;entropy&#x27;,\n",
       "                       max_depth=10, max_leaf_nodes=50, n_estimators=50,\n",
       "                       random_state=0)</pre><b>In a Jupyter environment, please rerun this cell to show the HTML representation or trust the notebook. <br />On GitHub, the HTML representation is unable to render, please try loading this page with nbviewer.org.</b></div><div class=\"sk-container\" hidden><div class=\"sk-item\"><div class=\"sk-estimator sk-toggleable\"><input class=\"sk-toggleable__control sk-hidden--visually\" id=\"sk-estimator-id-2\" type=\"checkbox\" checked><label for=\"sk-estimator-id-2\" class=\"sk-toggleable__label sk-toggleable__label-arrow\">RandomForestClassifier</label><div class=\"sk-toggleable__content\"><pre>RandomForestClassifier(class_weight=&#x27;balanced_subsample&#x27;, criterion=&#x27;entropy&#x27;,\n",
       "                       max_depth=10, max_leaf_nodes=50, n_estimators=50,\n",
       "                       random_state=0)</pre></div></div></div></div></div>"
      ],
      "text/plain": [
       "RandomForestClassifier(class_weight='balanced_subsample', criterion='entropy',\n",
       "                       max_depth=10, max_leaf_nodes=50, n_estimators=50,\n",
       "                       random_state=0)"
      ]
     },
     "execution_count": 46,
     "metadata": {},
     "output_type": "execute_result"
    }
   ],
   "source": [
    "mejor_modelo_rf = RandomForestClassifier(**mejores_parametros_rf)\n",
    "mejor_modelo_rf.fit(X_train, y_train)"
   ]
  },
  {
   "cell_type": "code",
   "execution_count": 47,
   "id": "5c4226da",
   "metadata": {},
   "outputs": [
    {
     "name": "stdout",
     "output_type": "stream",
     "text": [
      "              precision    recall  f1-score   support\n",
      "\n",
      "         0.0       0.95      0.87      0.91      6768\n",
      "         1.0       0.38      0.63      0.47       855\n",
      "\n",
      "    accuracy                           0.84      7623\n",
      "   macro avg       0.66      0.75      0.69      7623\n",
      "weighted avg       0.89      0.84      0.86      7623\n",
      "\n"
     ]
    }
   ],
   "source": [
    "y_pred=mejor_modelo_rf.predict(X_test)\n",
    "print(classification_report(y_test, y_pred))"
   ]
  },
  {
   "cell_type": "markdown",
   "id": "66c2d711",
   "metadata": {},
   "source": [
    "Ahora su matriz de confusión "
   ]
  },
  {
   "cell_type": "code",
   "execution_count": 49,
   "id": "297e7989",
   "metadata": {},
   "outputs": [
    {
     "data": {
      "image/png": "[encoded data removed]",
      "text/plain": [
       "<Figure size 640x480 with 2 Axes>"
      ]
     },
     "metadata": {},
     "output_type": "display_data"
    }
   ],
   "source": [
    "cm = confusion_matrix(y_test, y_pred,labels=mejor_modelo_rf.classes_)\n",
    "disp = ConfusionMatrixDisplay(confusion_matrix=cm,\n",
    "                               display_labels=[\"No acepta el credito:0\",\"Acepta el credito:1\"])\n",
    "disp.plot()\n",
    "plt.show()"
   ]
  },
  {
   "cell_type": "code",
   "execution_count": 50,
   "id": "750fec53",
   "metadata": {},
   "outputs": [
    {
     "data": {
      "text/plain": [
       "['/home/leomorya/proyecto_final_metodologias/tdsp_template/src/nombre_paquete/models/modelo_random_forest.pkl']"
      ]
     },
     "execution_count": 50,
     "metadata": {},
     "output_type": "execute_result"
    }
   ],
   "source": [
    "# ruta\n",
    "ruta_1 = \"/home/leomorya/proyecto_final_metodologias/tdsp_template/src\"\n",
    "ruta_2 = \"/nombre_paquete/models\"\n",
    "ruta_guarda = f\"{ruta_1}{ruta_2}\"\n",
    "\n",
    "joblib.dump(mejor_modelo_rf, f'{ruta_guarda}/modelo_random_forest.pkl')"
   ]
  },
  {
   "cell_type": "markdown",
   "id": "80ac174b",
   "metadata": {},
   "source": [
    " ### 1.Modelo perceptron multi capa MLPClassifier\n",
    "---\n",
    "Los hiperparametros son "
   ]
  },
  {
   "cell_type": "code",
   "execution_count": 19,
   "id": "47ca1ce8",
   "metadata": {},
   "outputs": [
    {
     "data": {
      "text/plain": [
       "{'activation': 'relu',\n",
       " 'alpha': 0.0001,\n",
       " 'batch_size': 'auto',\n",
       " 'beta_1': 0.9,\n",
       " 'beta_2': 0.999,\n",
       " 'early_stopping': False,\n",
       " 'epsilon': 1e-08,\n",
       " 'hidden_layer_sizes': (100,),\n",
       " 'learning_rate': 'constant',\n",
       " 'learning_rate_init': 0.001,\n",
       " 'max_fun': 15000,\n",
       " 'max_iter': 200,\n",
       " 'momentum': 0.9,\n",
       " 'n_iter_no_change': 10,\n",
       " 'nesterovs_momentum': True,\n",
       " 'power_t': 0.5,\n",
       " 'random_state': None,\n",
       " 'shuffle': True,\n",
       " 'solver': 'adam',\n",
       " 'tol': 0.0001,\n",
       " 'validation_fraction': 0.1,\n",
       " 'verbose': False,\n",
       " 'warm_start': False}"
      ]
     },
     "execution_count": 19,
     "metadata": {},
     "output_type": "execute_result"
    }
   ],
   "source": [
    "MLPClassifier().get_params()"
   ]
  },
  {
   "cell_type": "code",
   "execution_count": 20,
   "id": "3818307c",
   "metadata": {},
   "outputs": [],
   "source": [
    "param_grid_MLP={'activation': [\"logistic\", \"tanh\", \"relu\"],\n",
    "                'learning_rate_init': [0.001,0.01],\n",
    "                \"alpha\":[0.001,0.0001],\n",
    "                'max_iter': [200,500],\n",
    "                'hidden_layer_sizes': [(100,), (200,), (500,)],\n",
    "                'solver': ['lbfgs', 'adam'],\n",
    "                'early_stopping': [True],\n",
    "                \"n_iter_no_change\": [12],\n",
    "                \"random_state\":[0,42],\n",
    "              }"
   ]
  },
  {
   "cell_type": "code",
   "execution_count": 21,
   "id": "763db8d8",
   "metadata": {},
   "outputs": [],
   "source": [
    "from sklearn.exceptions import ConvergenceWarning\n",
    "warnings.filterwarnings(\"ignore\", category=ConvergenceWarning)"
   ]
  },
  {
   "cell_type": "code",
   "execution_count": null,
   "id": "8c19c6fd",
   "metadata": {},
   "outputs": [],
   "source": [
    "%%time\n",
    "gsearch = GridSearchCV(\n",
    "        estimator=MLPClassifier(),\n",
    "        param_grid=param_grid_MLP,\n",
    "        scoring=make_scorer(f1_score, greater_is_better=True),\n",
    "        n_jobs=-1,\n",
    "        cv=10\n",
    "        ).fit(X_train, y_train)"
   ]
  },
  {
   "cell_type": "code",
   "execution_count": null,
   "id": "b07ca765",
   "metadata": {},
   "outputs": [],
   "source": []
  }
 ],
 "metadata": {
  "kernelspec": {
   "display_name": "Python 3 (ipykernel)",
   "language": "python",
   "name": "python3"
  },
  "language_info": {
   "codemirror_mode": {
    "name": "ipython",
    "version": 3
   },
   "file_extension": ".py",
   "mimetype": "text/x-python",
   "name": "python",
   "nbconvert_exporter": "python",
   "pygments_lexer": "ipython3",
   "version": "3.10.7"
  }
 },
 "nbformat": 4,
 "nbformat_minor": 5
}
